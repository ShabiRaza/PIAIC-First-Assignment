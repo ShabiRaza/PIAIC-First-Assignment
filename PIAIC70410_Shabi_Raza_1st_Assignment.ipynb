{
 "cells": [
  {
   "cell_type": "markdown",
   "metadata": {},
   "source": [
    "# Assignment_01\n",
    "\n",
    "- All Sring Data Methods\n",
    "- 20 Oprands with Different Operators"
   ]
  },
  {
   "cell_type": "markdown",
   "metadata": {},
   "source": [
    "## 20 Oprands with Different Operators\n"
   ]
  },
  {
   "cell_type": "code",
   "execution_count": 3,
   "metadata": {},
   "outputs": [
    {
     "data": {
      "text/plain": [
       "11426"
      ]
     },
     "execution_count": 3,
     "metadata": {},
     "output_type": "execute_result"
    }
   ],
   "source": [
    "72+32-5*54+46*3-90+92*23-11*32-12*98+3*124+38+210+32*323"
   ]
  },
  {
   "cell_type": "code",
   "execution_count": 4,
   "metadata": {},
   "outputs": [
    {
     "data": {
      "text/plain": [
       "-10.0"
      ]
     },
     "execution_count": 4,
     "metadata": {},
     "output_type": "execute_result"
    }
   ],
   "source": [
    "8+3-21+18*22/2**40//(2-4)**22/(15+3)**(28/2)"
   ]
  },
  {
   "cell_type": "markdown",
   "metadata": {},
   "source": [
    "## All Sring Data Methods"
   ]
  },
  {
   "cell_type": "code",
   "execution_count": 5,
   "metadata": {},
   "outputs": [
    {
     "data": {
      "text/plain": [
       "['__add__',\n",
       " '__class__',\n",
       " '__contains__',\n",
       " '__delattr__',\n",
       " '__dir__',\n",
       " '__doc__',\n",
       " '__eq__',\n",
       " '__format__',\n",
       " '__ge__',\n",
       " '__getattribute__',\n",
       " '__getitem__',\n",
       " '__getnewargs__',\n",
       " '__gt__',\n",
       " '__hash__',\n",
       " '__init__',\n",
       " '__init_subclass__',\n",
       " '__iter__',\n",
       " '__le__',\n",
       " '__len__',\n",
       " '__lt__',\n",
       " '__mod__',\n",
       " '__mul__',\n",
       " '__ne__',\n",
       " '__new__',\n",
       " '__reduce__',\n",
       " '__reduce_ex__',\n",
       " '__repr__',\n",
       " '__rmod__',\n",
       " '__rmul__',\n",
       " '__setattr__',\n",
       " '__sizeof__',\n",
       " '__str__',\n",
       " '__subclasshook__',\n",
       " 'capitalize',\n",
       " 'casefold',\n",
       " 'center',\n",
       " 'count',\n",
       " 'encode',\n",
       " 'endswith',\n",
       " 'expandtabs',\n",
       " 'find',\n",
       " 'format',\n",
       " 'format_map',\n",
       " 'index',\n",
       " 'isalnum',\n",
       " 'isalpha',\n",
       " 'isascii',\n",
       " 'isdecimal',\n",
       " 'isdigit',\n",
       " 'isidentifier',\n",
       " 'islower',\n",
       " 'isnumeric',\n",
       " 'isprintable',\n",
       " 'isspace',\n",
       " 'istitle',\n",
       " 'isupper',\n",
       " 'join',\n",
       " 'ljust',\n",
       " 'lower',\n",
       " 'lstrip',\n",
       " 'maketrans',\n",
       " 'partition',\n",
       " 'replace',\n",
       " 'rfind',\n",
       " 'rindex',\n",
       " 'rjust',\n",
       " 'rpartition',\n",
       " 'rsplit',\n",
       " 'rstrip',\n",
       " 'split',\n",
       " 'splitlines',\n",
       " 'startswith',\n",
       " 'strip',\n",
       " 'swapcase',\n",
       " 'title',\n",
       " 'translate',\n",
       " 'upper',\n",
       " 'zfill']"
      ]
     },
     "execution_count": 5,
     "metadata": {},
     "output_type": "execute_result"
    }
   ],
   "source": [
    "a = \"Shabi Raza\"\n",
    "dir(a)"
   ]
  },
  {
   "cell_type": "code",
   "execution_count": 8,
   "metadata": {},
   "outputs": [
    {
     "name": "stdout",
     "output_type": "stream",
     "text": [
      "Shabi raza\n"
     ]
    }
   ],
   "source": [
    "x = \"shabi raza\"           # first character of string is changed to uppercase\n",
    "print(x.capitalize())"
   ]
  },
  {
   "cell_type": "code",
   "execution_count": 10,
   "metadata": {},
   "outputs": [
    {
     "name": "stdout",
     "output_type": "stream",
     "text": [
      "shabi raza\n"
     ]
    }
   ],
   "source": [
    "x= \"Shabi Raza\"               #all characters of string are lowercased\n",
    "print(x.casefold())"
   ]
  },
  {
   "cell_type": "code",
   "execution_count": 11,
   "metadata": {},
   "outputs": [
    {
     "name": "stdout",
     "output_type": "stream",
     "text": [
      "****************************************Shabi Raza****************************************\n"
     ]
    }
   ],
   "source": [
    "x =\"Shabi Raza\"              #it gives spaces of 90(number of spaces) half before string and half after string,\n",
    "                             #if in \"\" something written than it print that character on those spaces \n",
    "print(x.center(90,\"*\"))             # if \"*\" not written than it just add spaces"
   ]
  },
  {
   "cell_type": "code",
   "execution_count": 13,
   "metadata": {},
   "outputs": [
    {
     "name": "stdout",
     "output_type": "stream",
     "text": [
      "3\n"
     ]
    }
   ],
   "source": [
    "x = \"Shabi Raza\"            #it willl print the number of m how many times in string and return integer value\n",
    "print(x.count(\"a\"))"
   ]
  },
  {
   "cell_type": "code",
   "execution_count": 14,
   "metadata": {},
   "outputs": [
    {
     "name": "stdout",
     "output_type": "stream",
     "text": [
      "b'Shabi Raza'\n"
     ]
    }
   ],
   "source": [
    "x= \"Shabi Raza\"            #this method returns an encoded version of the string\n",
    "print(x.encode())"
   ]
  },
  {
   "cell_type": "code",
   "execution_count": 17,
   "metadata": {},
   "outputs": [
    {
     "name": "stdout",
     "output_type": "stream",
     "text": [
      "True\n"
     ]
    }
   ],
   "source": [
    "x= \"Shabi Raza\"          #it will retuen true or false if the string ends with the charcter in \"_\"\n",
    "print(x.endswith(\"a\"))"
   ]
  },
  {
   "cell_type": "code",
   "execution_count": 23,
   "metadata": {},
   "outputs": [
    {
     "name": "stdout",
     "output_type": "stream",
     "text": [
      "Sha    bi Ra  za\n"
     ]
    }
   ],
   "source": [
    "x='Sha\\tbi Ra\\tza'\n",
    "print(x.expandtabs(7))             #Sets the tab size of the string with the no specify in ()"
   ]
  },
  {
   "cell_type": "code",
   "execution_count": 24,
   "metadata": {},
   "outputs": [
    {
     "name": "stdout",
     "output_type": "stream",
     "text": [
      "sha      bi\n"
     ]
    }
   ],
   "source": [
    "a='sha\\tbi'\n",
    "b=a.expandtabs(9)                  #Return a copy where all tab characters are expanded using spaces with the value define in ()\n",
    "rint(b)"
   ]
  },
  {
   "cell_type": "code",
   "execution_count": 27,
   "metadata": {},
   "outputs": [
    {
     "name": "stdout",
     "output_type": "stream",
     "text": [
      "True\n"
     ]
    }
   ],
   "source": [
    "x= \"shabiraza\"         # returns true/false if all characters of string are alphabets\n",
    "print(x.isalpha())"
   ]
  },
  {
   "cell_type": "code",
   "execution_count": 30,
   "metadata": {},
   "outputs": [
    {
     "name": "stdout",
     "output_type": "stream",
     "text": [
      "True\n"
     ]
    }
   ],
   "source": [
    "y=\"shabiraza\"\n",
    "z=y.isalpha()                #Returns True if all characters in the string are in the alphabet\n",
    "print(z)"
   ]
  },
  {
   "cell_type": "code",
   "execution_count": 31,
   "metadata": {},
   "outputs": [
    {
     "name": "stdout",
     "output_type": "stream",
     "text": [
      "True\n"
     ]
    }
   ],
   "source": [
    "x = \"shabiraza51214\"     # it will return true/false if string is alphanumeric \n",
    "print(x.isalnum())"
   ]
  },
  {
   "cell_type": "code",
   "execution_count": 33,
   "metadata": {},
   "outputs": [
    {
     "name": "stdout",
     "output_type": "stream",
     "text": [
      "False\n"
     ]
    }
   ],
   "source": [
    "x= \"Shabi Raza\"  #return false if string is not alphanumeric. space is consider as false. if no space between string than it returns true\n",
    "print(x.isalnum())"
   ]
  },
  {
   "cell_type": "code",
   "execution_count": 36,
   "metadata": {},
   "outputs": [
    {
     "name": "stdout",
     "output_type": "stream",
     "text": [
      "17\n"
     ]
    }
   ],
   "source": [
    "x= \"my name is Shabi Raza and i study in bahria\"  #it will search the string and return the specified position of the string to find \n",
    "print(x.find('Raza'))"
   ]
  },
  {
   "cell_type": "code",
   "execution_count": 38,
   "metadata": {},
   "outputs": [
    {
     "name": "stdout",
     "output_type": "stream",
     "text": [
      "True\n"
     ]
    }
   ],
   "source": [
    "x = \"shabiraza\"       #return false if the string is not lowercase\n",
    "print(x.islower())"
   ]
  },
  {
   "cell_type": "code",
   "execution_count": 39,
   "metadata": {},
   "outputs": [
    {
     "name": "stdout",
     "output_type": "stream",
     "text": [
      "True\n"
     ]
    }
   ],
   "source": [
    "x= \"5773636\"             #return true if string has  numeric values\n",
    "print(x.isnumeric())"
   ]
  },
  {
   "cell_type": "code",
   "execution_count": 40,
   "metadata": {},
   "outputs": [
    {
     "name": "stdout",
     "output_type": "stream",
     "text": [
      "True\n"
     ]
    }
   ],
   "source": [
    "x= \"Shabi Raza\"         #it will return true if the string follows the title format\n",
    "print(x.istitle())"
   ]
  },
  {
   "cell_type": "code",
   "execution_count": 43,
   "metadata": {},
   "outputs": [
    {
     "name": "stdout",
     "output_type": "stream",
     "text": [
      "shabi raza\n"
     ]
    }
   ],
   "source": [
    "x= \"SHABI RAZA\"            # it will convert to lowercase \n",
    "X=x.lower()\n",
    "print(X)"
   ]
  },
  {
   "cell_type": "code",
   "execution_count": 44,
   "metadata": {},
   "outputs": [
    {
     "name": "stdout",
     "output_type": "stream",
     "text": [
      "True\n"
     ]
    }
   ],
   "source": [
    "x= \"              \"              # if spaces are given as string it will give true \n",
    "print(x.isspace())"
   ]
  },
  {
   "cell_type": "code",
   "execution_count": 48,
   "metadata": {},
   "outputs": [
    {
     "name": "stdout",
     "output_type": "stream",
     "text": [
      "False\n"
     ]
    }
   ],
   "source": [
    "x= \"Shabiraza\"      #Return True if the string is a whitespace string, False otherwise\n",
    "print(x.isspace())"
   ]
  },
  {
   "cell_type": "code",
   "execution_count": 50,
   "metadata": {},
   "outputs": [
    {
     "name": "stdout",
     "output_type": "stream",
     "text": [
      "True\n",
      "False\n"
     ]
    }
   ],
   "source": [
    "x= \"122331\" \n",
    "y= \"shabi\"          \n",
    "print(x.isdigit())   #it will return true if string is digit    \n",
    "print(y.isdigit())   # it willl return false if string is not digits"
   ]
  },
  {
   "cell_type": "code",
   "execution_count": 51,
   "metadata": {},
   "outputs": [
    {
     "name": "stdout",
     "output_type": "stream",
     "text": [
      "WELCOME TO ISLAMABAD \n"
     ]
    }
   ],
   "source": [
    "x= \"welcome to islamabad \"          \n",
    "print(x.upper())                       # convert string to uppercase"
   ]
  },
  {
   "cell_type": "code",
   "execution_count": 53,
   "metadata": {},
   "outputs": [
    {
     "name": "stdout",
     "output_type": "stream",
     "text": [
      "sHABI raza\n"
     ]
    }
   ],
   "source": [
    "x= \"Shabi RAZA\"      \n",
    "x=x.swapcase()                # it will change upper to lowercase and vice versa\n",
    "print(x)"
   ]
  },
  {
   "cell_type": "code",
   "execution_count": 58,
   "metadata": {},
   "outputs": [
    {
     "name": "stdout",
     "output_type": "stream",
     "text": [
      "('we ', 'are', ' pakistani')\n"
     ]
    }
   ],
   "source": [
    "a = \"we are pakistani\"                              #partition \n",
    "a = a.partition(\"are\")\n",
    "print(a)"
   ]
  },
  {
   "cell_type": "code",
   "execution_count": 60,
   "metadata": {},
   "outputs": [
    {
     "name": "stdout",
     "output_type": "stream",
     "text": [
      "shabi.raza\n"
     ]
    }
   ],
   "source": [
    "a = (\"shabi\", \"raza\") #it will join the strings\n",
    "print(\".\".join(a))"
   ]
  },
  {
   "cell_type": "code",
   "execution_count": 62,
   "metadata": {},
   "outputs": [
    {
     "name": "stdout",
     "output_type": "stream",
     "text": [
      "['book ', ' pencil ', ' card']\n"
     ]
    }
   ],
   "source": [
    "x = \"book , pencil , card\"         # it will split the strings with comma after each value\n",
    "print(x.rsplit(',') )"
   ]
  },
  {
   "cell_type": "code",
   "execution_count": 63,
   "metadata": {},
   "outputs": [
    {
     "name": "stdout",
     "output_type": "stream",
     "text": [
      "['Welcome to PIAIC Islamabad,', ' where you can learn']\n"
     ]
    }
   ],
   "source": [
    "x = \"Welcome to PIAIC Islamabad,\\n where you can learn\"      # it will splitlines\n",
    "print(x.splitlines())"
   ]
  },
  {
   "cell_type": "code",
   "execution_count": 65,
   "metadata": {},
   "outputs": [],
   "source": [
    "a = \"we are pakistani we lover our country!\""
   ]
  },
  {
   "cell_type": "code",
   "execution_count": 66,
   "metadata": {},
   "outputs": [
    {
     "name": "stdout",
     "output_type": "stream",
     "text": [
      "we are pakistani we lover our country!\n",
      "we are pakistani we lover our country!\n",
      "!yrtnuoc ruo revol ew inatsikap era ew\n",
      "pakistan\n"
     ]
    }
   ],
   "source": [
    "#list[start:end:step]\n",
    "#tuple[start:end:step]\n",
    "#string[start:end:step]\n",
    "\n",
    "print (a)\n",
    "print(a[::])         #print whole sentense\n",
    "print(a[::-1])       #print the sentense in reverse order\n",
    "print(a[7:15:])      #print the value start at index 7 till index 15"
   ]
  },
  {
   "cell_type": "code",
   "execution_count": 72,
   "metadata": {},
   "outputs": [
    {
     "name": "stdout",
     "output_type": "stream",
     "text": [
      "I am student of PIAIC Batch 3 in Bahria University Islamabad\n",
      "I am student of PIAIC Batch 3 in Bahria University Islamabad\n",
      "dabamalsI ytisrevinU airhaB ni 3 hctaB CIAIP fo tneduts ma I\n",
      "PIAIC Batch 3 in Bahria University Islamabad\n"
     ]
    }
   ],
   "source": [
    "a = \"I am student of PIAIC Batch 3 in Bahria University Islamabad\"\n",
    "\n",
    "print(a)\n",
    "print(a[::])\n",
    "print(a[::-1])\n",
    "print(a[16:60:])"
   ]
  },
  {
   "cell_type": "code",
   "execution_count": 85,
   "metadata": {},
   "outputs": [
    {
     "name": "stdout",
     "output_type": "stream",
     "text": [
      "I am student of PIAIC Batch 3 in Bahria University Islamabad\n",
      "16\n"
     ]
    }
   ],
   "source": [
    "print(a)\n",
    "print(a.index(\"PIAIC\"))     #it will give the index of specific text"
   ]
  },
  {
   "cell_type": "code",
   "execution_count": 74,
   "metadata": {},
   "outputs": [
    {
     "name": "stdout",
     "output_type": "stream",
     "text": [
      "33\n"
     ]
    }
   ],
   "source": [
    "x= \"I am student of PIAIC Batch 3 in Bahria University Islamabad\"\n",
    "print(x.index(\"Bahria University\"))                      #this will show the index no for the selected text"
   ]
  },
  {
   "cell_type": "code",
   "execution_count": 78,
   "metadata": {},
   "outputs": [
    {
     "name": "stdout",
     "output_type": "stream",
     "text": [
      "shabi           my fist name\n"
     ]
    }
   ],
   "source": [
    "z = \"shabi\"                          # it will give 15 character spaces for left justified\n",
    "print(z.ljust(15),\"my fist name\")"
   ]
  },
  {
   "cell_type": "code",
   "execution_count": 79,
   "metadata": {},
   "outputs": [
    {
     "name": "stdout",
     "output_type": "stream",
     "text": [
      "      Shabi Raza\n",
      "Shabi Raza\n"
     ]
    }
   ],
   "source": [
    "x= \"      Shabi Raza\"\n",
    "print(x)                           # it removes the spaces at starting of the string if given when storing values\n",
    "print(x.lstrip())"
   ]
  },
  {
   "cell_type": "code",
   "execution_count": 80,
   "metadata": {},
   "outputs": [
    {
     "name": "stdout",
     "output_type": "stream",
     "text": [
      "my name is Shabi Raza\n"
     ]
    }
   ],
   "source": [
    "x= \"my name was Shabi Raza\"         # it replaces the word\n",
    "print(x.replace('was','is'))"
   ]
  },
  {
   "cell_type": "code",
   "execution_count": 82,
   "metadata": {},
   "outputs": [
    {
     "name": "stdout",
     "output_type": "stream",
     "text": [
      "0000000000Shabi Raza\n"
     ]
    }
   ],
   "source": [
    "x= \"Shabi Raza\"       # it will cover 25 characters from right side and add zeros to left of first string character\n",
    "print (x.zfill(20))"
   ]
  },
  {
   "cell_type": "code",
   "execution_count": 84,
   "metadata": {},
   "outputs": [
    {
     "name": "stdout",
     "output_type": "stream",
     "text": [
      "Max character: y\n"
     ]
    }
   ],
   "source": [
    "y = \"this is a string example....really..shit!!!\"         # it will print the highest character in string\n",
    "print(\"Max character: \" + max(y))"
   ]
  },
  {
   "cell_type": "code",
   "execution_count": 88,
   "metadata": {},
   "outputs": [
    {
     "data": {
      "text/plain": [
       "'232232565644223'"
      ]
     },
     "execution_count": 88,
     "metadata": {},
     "output_type": "execute_result"
    }
   ],
   "source": [
    "a = \"kadkfakdfja232lkafk2lk32-adfasdfkask565644dfljalk2-2-/rf3\"\n",
    "\"\".join([i for i in a if str.isnumeric(i)])        #Return True if the string is a numeric string, False otherwise"
   ]
  },
  {
   "cell_type": "code",
   "execution_count": 89,
   "metadata": {},
   "outputs": [
    {
     "name": "stdout",
     "output_type": "stream",
     "text": [
      "29\n",
      "          shabi RaZa\n",
      "20\n"
     ]
    }
   ],
   "source": [
    "a = \"          shabi RaZa         \"\n",
    "\n",
    "print(len(a))\n",
    "print(a.rstrip())\n",
    "print(len(a.rstrip()))"
   ]
  },
  {
   "cell_type": "code",
   "execution_count": 90,
   "metadata": {},
   "outputs": [
    {
     "name": "stdout",
     "output_type": "stream",
     "text": [
      "29\n",
      "shabi RaZa\n",
      "10\n"
     ]
    }
   ],
   "source": [
    "a = \"          shabi RaZa         \"\n",
    "\n",
    "print(len(a))\n",
    "print(a.strip())\n",
    "print(len(a.strip()))"
   ]
  },
  {
   "cell_type": "code",
   "execution_count": 91,
   "metadata": {},
   "outputs": [
    {
     "data": {
      "text/plain": [
       "['shabi', 'RaZa']"
      ]
     },
     "execution_count": 91,
     "metadata": {},
     "output_type": "execute_result"
    }
   ],
   "source": [
    "b = a.split()\n",
    "b\n"
   ]
  }
 ],
 "metadata": {
  "kernelspec": {
   "display_name": "Python 3",
   "language": "python",
   "name": "python3"
  },
  "language_info": {
   "codemirror_mode": {
    "name": "ipython",
    "version": 3
   },
   "file_extension": ".py",
   "mimetype": "text/x-python",
   "name": "python",
   "nbconvert_exporter": "python",
   "pygments_lexer": "ipython3",
   "version": "3.7.0"
  }
 },
 "nbformat": 4,
 "nbformat_minor": 2
}
